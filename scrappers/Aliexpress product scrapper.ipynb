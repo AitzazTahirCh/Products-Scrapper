{
 "cells": [
  {
   "cell_type": "code",
   "execution_count": 30,
   "id": "8dea0845",
   "metadata": {},
   "outputs": [],
   "source": [
    "import bs4 as bs\n",
    "import re\n",
    "import json\n",
    "from math import ceil\n",
    "import requests\n",
    "import time\n",
    "from selenium import webdriver\n",
    "from selenium.webdriver.common.by import By\n",
    "import pandas as pd\n",
    "from bs4 import BeautifulSoup\n",
    "from urllib.request import Request, urlopen"
   ]
  },
  {
   "cell_type": "markdown",
   "id": "0a32e9be",
   "metadata": {},
   "source": [
    "# Aliexpress product scrapper"
   ]
  },
  {
   "cell_type": "code",
   "execution_count": 133,
   "id": "9f4dd6f9",
   "metadata": {},
   "outputs": [
    {
     "name": "stdout",
     "output_type": "stream",
     "text": [
      "Lenovo Thinkplus TH10 LP40 TWS Stereo Headphone Bluetooth Earphones Music Headset with Mic for Mobile iPhone Sumsamg Android IOS\n",
      "Product sellpoints\n",
      "Why our bluetooth stereo headset is different?\n",
      "1.9D surround sound HiFi music headset. Smaller and more outstanding. Comfortable to wear, painless to wear for a long time; 40mm large size dual core power horn with bass subwoofer.\n",
      "2.One of the best-selling and most popular bluetooth earphone on e-commerce platform in China; New upgrading chip lossless sound quality with 5.0 chips are compatible.\n",
      "3.3D listen to the distinctive sound, zero delay of 3D auditory discrimination, gaming experience; custom 5.0 mobile computer general.\n",
      "4.Officially authorized by Lenovo, original warranty.\n",
      "Product specification\n",
      "Product type: headset\n",
      "Model: TH10\n",
      "Drive Unit: 40mm\n",
      "Distance: 10-15M\n",
      "Endurance time: 12H\n",
      "Battery type:  lithium battery\n",
      "Wired connection: 3.5mm audio cable\n",
      "Edition: 5.0 chip\n",
      "Colour: White, black\n",
      "Charging interface: USB\n",
      "\n",
      "Features of our Bluetooth stereo headset\n",
      "1.TH10: Strong endurance all day bluetooth it works without electricity; Lenovo Explosion-LP40 True Wireless Bluetooth Earbuds: Suitable for the crowd: simple style, small appearance, more suitable for girls.\n",
      "2.Suitable for the crowd: Bluetooth headsets, suitable for all people\n",
      "3.Suitable for scenes: leisure, music and games, enhanced call sound music game partner \n",
      "4.compatible device Bluetooth can connect with various equipment, ear protein earmuffs sports and games for nice and comfortable experience\n",
      "5.telescopic folding wear with no pressure feeling, 13mm pronunciation unit, high quality sound\n",
      "6.Microphones statiques CVC, effets sonores améliorés ; Microphones statiques CVC, effets sonores améliorés\n",
      "\n",
      "How to use a bluetooth stereo headset:\n",
      "1, First of all, open the phone Bluetooth settings, the Bluetooth open, remember to be set in the other side of the device is not detected by the device to turn off. Otherwise, the mobile device will not detect your electronic headphones signal when connecting later.\n",
      "2, The second is the power button of the bluetooth stereo headphones, dial to the English letter ON end, after you will hear the Bluetooth headset in the prompt Bluetooth has been opened. Some Bluetooth headsets are turned on in different ways, you can long press the headset Bluetooth headset multi-function key for 7-8 seconds, the headset's indicator lights up, so that the Bluetooth into the pairing state.\n",
      "3, Bluetooth successfully into the pairing state, then open the phone's bluetooth function search function, directly search the bluetooth headset model. Enter the password on the phone, the headset indicator light flashes quickly, that is, the pairing is successful. After that use generally do not need to re-pair, when you open the headset, Bluetooth device voice prompts Bluetooth is connecting, a few seconds later, it will voice prompts Bluetooth has been connected.\n",
      "4, If not, at this time, please note that the phone Bluetooth settings can be connected in the device column. The number of the headset, generally for the capitalization of the machine's model. Click on that item will appear to connect, and so on for 10 seconds and then it will appear. Bluetooth connection successful voice prompts.\n",
      "View All\n",
      "\n",
      "-------\n",
      "{'Common search titles for this product': 'Bluetooth\\xa0Stereo\\xa0Headphones\\xa0|\\xa0Portable\\xa0Bluetooth\\xa0Stereo\\xa0|\\xa0Bluetooth\\xa0Stereo\\xa0Headset\\xa0-\\xa0Aliexpress', 'Product Link': 'https://www.aliexpress.com/item/1005004990769251.html', 'Product Image': 'https://ae01.alicdn.com/kf/Sb1fbbc5801644deb82f127369e2cb98fi/Lenovo-Thinkplus-TH10-LP40-TWS-Stereo-Headphone-Bluetooth-Earphones-Music-Headset-with-Mic-for-Mobile-iPhone.jpg', 'Price': 'PKR 5,066 - 5,086', 'Product Name': 'Lenovo Thinkplus TH10 LP40 TWS Stereo Headphone Bluetooth Earphones Music Headset with Mic for Mobile iPhone Sumsamg Android IOS', 'Product Description/Sprcification': \"Product sellpoints\\nWhy our bluetooth stereo headset is different?\\n1.9D surround sound HiFi music headset. Smaller and more outstanding. Comfortable to wear, painless to wear for a long time; 40mm large size dual core power horn with bass subwoofer.\\n2.One of the best-selling and most popular bluetooth earphone on e-commerce platform in China; New upgrading chip lossless sound quality with 5.0 chips are compatible.\\n3.3D listen to the distinctive sound, zero delay of 3D auditory discrimination, gaming experience; custom 5.0 mobile computer general.\\n4.Officially authorized by Lenovo, original warranty.\\nProduct specification\\nProduct type: headset\\nModel: TH10\\nDrive Unit: 40mm\\nDistance: 10-15M\\nEndurance time: 12H\\nBattery type:  lithium battery\\nWired connection: 3.5mm audio cable\\nEdition: 5.0 chip\\nColour: White, black\\nCharging interface: USB\\n\\nFeatures of our Bluetooth stereo headset\\n1.TH10: Strong endurance all day bluetooth it works without electricity; Lenovo Explosion-LP40 True Wireless Bluetooth Earbuds: Suitable for the crowd: simple style, small appearance, more suitable for girls.\\n2.Suitable for the crowd: Bluetooth headsets, suitable for all people\\n3.Suitable for scenes: leisure, music and games, enhanced call sound music game partner \\n4.compatible device Bluetooth can connect with various equipment, ear protein earmuffs sports and games for nice and comfortable experience\\n5.telescopic folding wear with no pressure feeling, 13mm pronunciation unit, high quality sound\\n6.Microphones statiques CVC, effets sonores améliorés ; Microphones statiques CVC, effets sonores améliorés\\n\\nHow to use a bluetooth stereo headset:\\n1, First of all, open the phone Bluetooth settings, the Bluetooth open, remember to be set in the other side of the device is not detected by the device to turn off. Otherwise, the mobile device will not detect your electronic headphones signal when connecting later.\\n2, The second is the power button of the bluetooth stereo headphones, dial to the English letter ON end, after you will hear the Bluetooth headset in the prompt Bluetooth has been opened. Some Bluetooth headsets are turned on in different ways, you can long press the headset Bluetooth headset multi-function key for 7-8 seconds, the headset's indicator lights up, so that the Bluetooth into the pairing state.\\n3, Bluetooth successfully into the pairing state, then open the phone's bluetooth function search function, directly search the bluetooth headset model. Enter the password on the phone, the headset indicator light flashes quickly, that is, the pairing is successful. After that use generally do not need to re-pair, when you open the headset, Bluetooth device voice prompts Bluetooth is connecting, a few seconds later, it will voice prompts Bluetooth has been connected.\\n4, If not, at this time, please note that the phone Bluetooth settings can be connected in the device column. The number of the headset, generally for the capitalization of the machine's model. Click on that item will appear to connect, and so on for 10 seconds and then it will appear. Bluetooth connection successful voice prompts.\\nView All\"}\n"
     ]
    }
   ],
   "source": [
    "details = {}\n",
    "url = \"https://www.aliexpress.com/item/1005004990769251.html?spm=a2g0o.detail.1000014.7.666d6338vgShOI&gps-id=pcDetailBottomMoreOtherSeller&scm=1007.40050.281175.0&scm_id=1007.40050.281175.0&scm-url=1007.40050.281175.0&pvid=3871b0b6-4237-4e46-9c6c-39bea4d17fd1&_t=gps-id:pcDetailBottomMoreOtherSeller,scm-url:1007.40050.281175.0,pvid:3871b0b6-4237-4e46-9c6c-39bea4d17fd1,tpp_buckets:668%232846%238113%231998&pdp_ext_f=%7B%22sku_id%22%3A%2212000031262007959%22%2C%22sceneId%22%3A%2230050%22%7D&pdp_npi=3%40dis%21PKR%2111813.37%215082.24%21%21%21%21%21%40210312ea16774898613835356e9bfe%2112000031262007959%21rec%21PK%21\"\n",
    "\n",
    "target = [\"title\", \"itemDetailUrl\", \"imagePath\"]\n",
    "\n",
    "r = requests.get(url)\n",
    "match = re.search(r'data: ({.+})', r.text).group(1)\n",
    "data = json.loads(match)\n",
    "goal = [data['pageModule'][x] for x in target] + \\\n",
    "    [data['priceModule']['formatedActivityPrice']]\n",
    "a = [\"Common search titles for this product\", \"Product Link\", \"Product Image\", \"Price\"]\n",
    "details = dict(zip(a,goal))\n",
    "\n",
    "html_paged = webdriver.Chrome('chromedriver')\n",
    "html_paged.get(url)\n",
    "name = html_paged.find_element(\"xpath\",'//*[@class=\"product-title-text\"]')\n",
    "details[\"Product Name\"] = name.text\n",
    "print(name.text)\n",
    "try:\n",
    "    d = html_paged.find_element(\"xpath\",'//*[@class=\"product-detail-tab\"]/div/div/div[2]')\n",
    "    details[\"Product Description/Sprcification\"] = d.text\n",
    "    print(d.text)\n",
    "    if d.text == '':\n",
    "        x = html_paged.find_element(\"xpath\",'//*[@id=\"product-description\"]')\n",
    "        details[\"Product Description/Sprcification\"] = x.text\n",
    "        print(x.text)\n",
    "        html_paged.quit()\n",
    "    html_paged.quit()\n",
    "except:\n",
    "    try:\n",
    "        x = html_paged.find_element(\"xpath\",'//*[@id=\"product-description\"]')\n",
    "        details[\"Product Description/Sprcification\"] = x.text\n",
    "        print(x.text)\n",
    "        html_paged.quit()\n",
    "    except:\n",
    "        pass\n",
    "\n",
    "print()\n",
    "print(\"-------\")\n",
    "print(details)"
   ]
  },
  {
   "cell_type": "code",
   "execution_count": null,
   "id": "9d060a99",
   "metadata": {},
   "outputs": [],
   "source": []
  },
  {
   "cell_type": "code",
   "execution_count": 99,
   "id": "6d06050e",
   "metadata": {},
   "outputs": [
    {
     "name": "stdout",
     "output_type": "stream",
     "text": [
      "Product sellpoints\n",
      "Why our bluetooth stereo headset is different?\n",
      "1.9D surround sound HiFi music headset. Smaller and more outstanding. Comfortable to wear, painless to wear for a long time; 40mm large size dual core power horn with bass subwoofer.\n",
      "2.One of the best-selling and most popular bluetooth earphone on e-commerce platform in China; New upgrading chip lossless sound quality with 5.0 chips are compatible.\n",
      "3.3D listen to the distinctive sound, zero delay of 3D auditory discrimination, gaming experience; custom 5.0 mobile computer general.\n",
      "4.Officially authorized by Lenovo, original warranty.\n",
      "Product specification\n",
      "Product type: headset\n",
      "Model: TH10\n",
      "Drive Unit: 40mm\n",
      "Distance: 10-15M\n",
      "Endurance time: 12H\n",
      "Battery type:  lithium battery\n",
      "Wired connection: 3.5mm audio cable\n",
      "Edition: 5.0 chip\n",
      "Colour: White, black\n",
      "Charging interface: USB\n",
      "\n",
      "Features of our Bluetooth stereo headset\n",
      "1.TH10: Strong endurance all day bluetooth it works without electricity; Lenovo Explosion-LP40 True Wireless Bluetooth Earbuds: Suitable for the crowd: simple style, small appearance, more suitable for girls.\n",
      "2.Suitable for the crowd: Bluetooth headsets, suitable for all people\n",
      "3.Suitable for scenes: leisure, music and games, enhanced call sound music game partner \n",
      "4.compatible device Bluetooth can connect with various equipment, ear protein earmuffs sports and games for nice and comfortable experience\n",
      "5.telescopic folding wear with no pressure feeling, 13mm pronunciation unit, high quality sound\n",
      "6.Microphones statiques CVC, effets sonores améliorés ; Microphones statiques CVC, effets sonores améliorés\n",
      "\n",
      "How to use a bluetooth stereo headset:\n",
      "1, First of all, open the phone Bluetooth settings, the Bluetooth open, remember to be set in the other side of the device is not detected by the device to turn off. Otherwise, the mobile device will not detect your electronic headphones signal when connecting later.\n",
      "2, The second is the power button of the bluetooth stereo headphones, dial to the English letter ON end, after you will hear the Bluetooth headset in the prompt Bluetooth has been opened. Some Bluetooth headsets are turned on in different ways, you can long press the headset Bluetooth headset multi-function key for 7-8 seconds, the headset's indicator lights up, so that the Bluetooth into the pairing state.\n",
      "3, Bluetooth successfully into the pairing state, then open the phone's bluetooth function search function, directly search the bluetooth headset model. Enter the password on the phone, the headset indicator light flashes quickly, that is, the pairing is successful. After that use generally do not need to re-pair, when you open the headset, Bluetooth device voice prompts Bluetooth is connecting, a few seconds later, it will voice prompts Bluetooth has been connected.\n",
      "4, If not, at this time, please note that the phone Bluetooth settings can be connected in the device column. The number of the headset, generally for the capitalization of the machine's model. Click on that item will appear to connect, and so on for 10 seconds and then it will appear. Bluetooth connection successful voice prompts.\n",
      "View All\n"
     ]
    }
   ],
   "source": [
    "html_paged = webdriver.Chrome('chromedriver')\n",
    "html_paged.get(\"https://www.aliexpress.com/item/1005004990769251.html?spm=a2g0o.detail.1000014.7.666d6338vgShOI&gps-id=pcDetailBottomMoreOtherSeller&scm=1007.40050.281175.0&scm_id=1007.40050.281175.0&scm-url=1007.40050.281175.0&pvid=3871b0b6-4237-4e46-9c6c-39bea4d17fd1&_t=gps-id:pcDetailBottomMoreOtherSeller,scm-url:1007.40050.281175.0,pvid:3871b0b6-4237-4e46-9c6c-39bea4d17fd1,tpp_buckets:668%232846%238113%231998&pdp_ext_f=%7B%22sku_id%22%3A%2212000031262007959%22%2C%22sceneId%22%3A%2230050%22%7D&pdp_npi=3%40dis%21PKR%2111813.37%215082.24%21%21%21%21%21%40210312ea16774898613835356e9bfe%2112000031262007959%21rec%21PK%21\")\n",
    "d = html_paged.find_element(\"xpath\",'//*[@class=\"product-detail-tab\"]/div/div/div[2]')\n",
    "print(d.text)\n",
    "\n",
    "html_paged.quit()"
   ]
  },
  {
   "cell_type": "code",
   "execution_count": 136,
   "id": "8ffd9672",
   "metadata": {},
   "outputs": [
    {
     "name": "stdout",
     "output_type": "stream",
     "text": [
      "Magic Flying Ball Pro Spinner Toys Hand Controlled Boomerang Mini Lighting Remote Control Drone For Adults Kids interaction Gift\n",
      "\n",
      "Describe:\n",
      "1. With three dazzling colorful lights, your flying ball toy looks like a neon shooting star when you launch it into the sky.\n",
      "2. The ball toys are easy to use. Turn on the power button and hold the toy, then shake it to power up and start it!\n",
      "3. Launch your toy and use the boomerang to call it back to base - it's your hand. Throw the spinning toy in the air and watch it spin directly towards you. Grab it with one hand and get ready for your next trick.\n",
      "\n",
      "Features:\n",
      "Dynamic lights\n",
      "Safe for children\n",
      "Drop-resistant\n",
      "Fly as Boomerang\n",
      "Product battery: 3.7V 120mAH\n",
      "Charging time: 20-30mins\n",
      "Flying time: 6-8mins\n",
      "R/C distance: 8-10m\n",
      "Material: Electronic Components,Plastic\n",
      "Product size:9.5X9.5cm\n",
      "Function: rise, fall, turn left, turn right, forward, backward, induction\n",
      "\n",
      "Package Contents:\n",
      "1x magic ball\n",
      "1x User Manual\n",
      "1x USB cable\n"
     ]
    }
   ],
   "source": [
    "url = \"https://www.aliexpress.com/item/1005005192929134.html?spm=a2g0o.productlist.main.1.6cd914f10mmFke&algo_pvid=431e8e86-19ce-40f7-a2d3-6f88e4087602&algo_exp_id=431e8e86-19ce-40f7-a2d3-6f88e4087602-0&pdp_ext_f=%7B%22sku_id%22%3A%2212000032067301130%22%7D&pdp_npi=3%40dis%21PKR%213490.4%211557.67%21%21%21%21%21%4021021d7b16774855370001285d074c%2112000032067301130%21sea%21PK%210&curPageLogUid=qEKm6WvlDTHu\"\n",
    "html_paged = webdriver.Chrome('chromedriver')\n",
    "html_paged.get(url)\n",
    "x = html_paged.find_element(\"xpath\",'//*[@id=\"product-description\"]')\n",
    "print(x.text)\n",
    "html_paged.quit()"
   ]
  },
  {
   "cell_type": "code",
   "execution_count": null,
   "id": "120d89bd",
   "metadata": {},
   "outputs": [],
   "source": []
  },
  {
   "cell_type": "code",
   "execution_count": 129,
   "id": "7324146a",
   "metadata": {},
   "outputs": [
    {
     "name": "stdout",
     "output_type": "stream",
     "text": [
      "\n"
     ]
    },
    {
     "data": {
      "text/plain": [
       "{'Common search titles for this product': 'Bluetooth\\xa0Stereo\\xa0Headphones\\xa0|\\xa0Portable\\xa0Bluetooth\\xa0Stereo\\xa0|\\xa0Bluetooth\\xa0Stereo\\xa0Headset\\xa0-\\xa0Aliexpress',\n",
       " 'Product Link': 'https://www.aliexpress.com/item/1005004990769251.html',\n",
       " 'Product Image': 'https://ae01.alicdn.com/kf/Sb1fbbc5801644deb82f127369e2cb98fi/Lenovo-Thinkplus-TH10-LP40-TWS-Stereo-Headphone-Bluetooth-Earphones-Music-Headset-with-Mic-for-Mobile-iPhone.jpg',\n",
       " 'Price': 'PKR 5,066 - 5,086'}"
      ]
     },
     "execution_count": 129,
     "metadata": {},
     "output_type": "execute_result"
    }
   ],
   "source": [
    "def main(url):\n",
    "    r = requests.get(url)\n",
    "    match = re.search(r'data: ({.+})', r.text).group(1)\n",
    "    data = json.loads(match)\n",
    "    goal = [data['pageModule'][x] for x in target] + \\\n",
    "        [data['priceModule']['formatedActivityPrice']]\n",
    "    a = [\"Common search titles for this product\", \"Product Link\", \"Product Image\", \"Price\"]\n",
    "    result = dict(zip(a,goal))\n",
    "    return result\n",
    "print()\n",
    "main(\"https://www.aliexpress.com/item/1005004990769251.html?spm=a2g0o.detail.1000014.7.666d6338vgShOI&gps-id=pcDetailBottomMoreOtherSeller&scm=1007.40050.281175.0&scm_id=1007.40050.281175.0&scm-url=1007.40050.281175.0&pvid=3871b0b6-4237-4e46-9c6c-39bea4d17fd1&_t=gps-id:pcDetailBottomMoreOtherSeller,scm-url:1007.40050.281175.0,pvid:3871b0b6-4237-4e46-9c6c-39bea4d17fd1,tpp_buckets:668%232846%238113%231998&pdp_ext_f=%7B%22sku_id%22%3A%2212000031262007959%22%2C%22sceneId%22%3A%2230050%22%7D&pdp_npi=3%40dis%21PKR%2111813.37%215082.24%21%21%21%21%21%40210312ea16774898613835356e9bfe%2112000031262007959%21rec%21PK%21\")"
   ]
  }
 ],
 "metadata": {
  "kernelspec": {
   "display_name": "Python 3 (ipykernel)",
   "language": "python",
   "name": "python3"
  },
  "language_info": {
   "codemirror_mode": {
    "name": "ipython",
    "version": 3
   },
   "file_extension": ".py",
   "mimetype": "text/x-python",
   "name": "python",
   "nbconvert_exporter": "python",
   "pygments_lexer": "ipython3",
   "version": "3.9.6"
  }
 },
 "nbformat": 4,
 "nbformat_minor": 5
}
